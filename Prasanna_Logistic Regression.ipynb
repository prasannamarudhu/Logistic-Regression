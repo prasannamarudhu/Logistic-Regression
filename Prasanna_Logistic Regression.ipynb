{
 "cells": [
  {
   "cell_type": "markdown",
   "metadata": {},
   "source": [
    "# Logistic Regression as a Single Neuran of a Neural Network\n",
    "\n",
    "Welcome to your first programming assignment! You will build a logistic regression classifier to recognize  cats. This assignment will step you through how to do this with a Neural Network mindset where logistic regression represents a single nueron. \n",
    "\n",
    "**Instructions:**\n",
    "- Do not use loops (for/while) in your code, unless the instructions explicitly ask you to do so.\n",
    "\n",
    "**You will learn to:**\n",
    "- Build the general architecture of a learning algorithm, including:\n",
    "    - Initializing parameters\n",
    "    - Calculating the cost function and its gradient\n",
    "    - Using an optimization algorithm (gradient descent) \n",
    "- Gather all three functions above into a main model function, in the right order."
   ]
  },
  {
   "cell_type": "code",
   "execution_count": 1,
   "metadata": {},
   "outputs": [
    {
     "data": {
      "text/plain": [
       "'\\n\\n# Name      :  Prasanna Marudhu Balasubramanian\\n# UID       :  116197700\\n# Course    :  ENPM809K - Fundamentals for Artificial Intelligence and Deep Learning Framework\\n# Semester  :  Spring 2019\\n\\n'"
      ]
     },
     "execution_count": 1,
     "metadata": {},
     "output_type": "execute_result"
    }
   ],
   "source": [
    "\"\"\"\n",
    "\n",
    "# Name      :  Prasanna Marudhu Balasubramanian\n",
    "# UID       :  116197700\n",
    "# Course    :  ENPM809K - Fundamentals for Artificial Intelligence and Deep Learning Framework\n",
    "# Semester  :  Spring 2019\n",
    "\n",
    "\"\"\"    "
   ]
  },
  {
   "cell_type": "markdown",
   "metadata": {},
   "source": [
    "## 1 -  Loading Packages ##\n",
    "First, let's run the cell below to import all the packages that you will need during this assignment. "
   ]
  },
  {
   "cell_type": "code",
   "execution_count": 2,
   "metadata": {},
   "outputs": [],
   "source": [
    "#The modules used in this python notebook are listed below\n",
    "\n",
    "import numpy as np\n",
    "import matplotlib.pyplot as plt\n",
    "import h5py\n",
    "import scipy\n",
    "from load_dataset import load_dataset                    #loading the data from the given python file\n",
    "from PIL import Image\n",
    "from scipy import ndimage\n",
    "import glob\n",
    "from sklearn.model_selection import train_test_split\n",
    "\n",
    "\n",
    "%matplotlib inline"
   ]
  },
  {
   "cell_type": "markdown",
   "metadata": {},
   "source": [
    "## 2 - Utility functions to convert images into datasets ##\n",
    "The following functions are used to convert the cats and dogs images in the dataset folder into the numpy array format with labels. "
   ]
  },
  {
   "cell_type": "code",
   "execution_count": 3,
   "metadata": {},
   "outputs": [],
   "source": [
    "#This function resizes and converts all the images into an array\n",
    "\n",
    "def convert_image_to_data(image, WIDTH, HEIGHT):\n",
    "    image_resized = Image.open(image).resize((WIDTH, HEIGHT)) #Image resized\n",
    "    image_array = np.array(image_resized).T                   #Resized images are converted to an array\n",
    "    return image_array"
   ]
  },
  {
   "cell_type": "code",
   "execution_count": 4,
   "metadata": {},
   "outputs": [],
   "source": [
    "#This function generates the test and train set data with test size splitted into 80-20,\n",
    "# where 80% of images are used for training and remaining 20% are used for testing.\n",
    "\n",
    "def create_train_test_data(num_pix,test_size=0.2):\n",
    "    cat_files = glob.glob(\"datasets/cat*\")\n",
    "    dog_files = glob.glob(\"datasets/dog*\")\n",
    "\n",
    "    # Restrict cat and dog files here for testing\n",
    "    cat_list = [convert_image_to_data(i, num_pix, num_pix) for i in cat_files]\n",
    "    dog_list = [convert_image_to_data(i, num_pix, num_pix) for i in dog_files]\n",
    "\n",
    "    y_cat = np.zeros(len(cat_list))\n",
    "    y_dog = np.ones(len(dog_list))\n",
    "\n",
    "    X = np.concatenate([cat_list, dog_list])\n",
    "    y = np.concatenate([y_cat, y_dog])\n",
    "\n",
    "    X_train, X_test, y_train, y_test = train_test_split(X, y, test_size=0.2, random_state=1, stratify=y)\n",
    "    return X_train, X_test, y_train, y_test"
   ]
  },
  {
   "cell_type": "markdown",
   "metadata": {},
   "source": [
    "### 2.1 - Load data set ###\n",
    "Use the utility functions provided above to load the train_set_x,train_set_y, test_set_x, test_set_y.\n",
    "Set the `num_pix` to 64 and keep the `test_size` as the default value."
   ]
  },
  {
   "cell_type": "code",
   "execution_count": 5,
   "metadata": {
    "scrolled": true
   },
   "outputs": [],
   "source": [
    "# set the num_pix to 64\n",
    "num_pix = 64\n",
    "\n",
    "#The values of the test and train variables are loaded\n",
    "train_set_x_orig, test_set_x_orig, train_set_y, test_set_y= create_train_test_data(64,0.2)      \n",
    "pass"
   ]
  },
  {
   "cell_type": "markdown",
   "metadata": {},
   "source": [
    "#### 2.1.1 - Print the shapes ###\n",
    "Print the shape of the following variables\n",
    "- Number of training examples: m_train\n",
    "- Number of testing examples: m_test\n",
    "- Height/Width of each image: num_px\n",
    "- train_set_x shape\n",
    "- train_set_y shape\n",
    "- test_set_x shape\n",
    "- test_set_y shape"
   ]
  },
  {
   "cell_type": "code",
   "execution_count": 6,
   "metadata": {},
   "outputs": [
    {
     "name": "stdout",
     "output_type": "stream",
     "text": [
      "Number of training examples: m_train = 640\n",
      "Number of testing examples: m_test = 160\n",
      "Height/Width of each image: num_px = 640\n",
      "Each image is of size: (640, 640, 3)\n",
      "train_set_x shape: (640, 3, 64, 64)\n",
      "train_set_y shape: (640,)\n",
      "test_set_x shape: (160, 3, 64, 64)\n",
      "test_set_y shape: (160,)\n"
     ]
    }
   ],
   "source": [
    "#Number of training examples: m_train #Number of testing examples: m_test #Height/Width of each image: num_px\n",
    "#values are calculated\n",
    "\n",
    "m_train = train_set_y.shape[0]\n",
    "m_test = test_set_y.shape[0]\n",
    "num_px = train_set_x_orig.shape[0]\n",
    "\n",
    "#Printing the values of m_test, m_train and num_px \n",
    "print (\"Number of training examples: m_train = \" + str(m_train))\n",
    "print (\"Number of testing examples: m_test = \" + str(m_test))\n",
    "print (\"Height/Width of each image: num_px = \" + str(num_px))\n",
    "print (\"Each image is of size: (\" + str(num_px) + \", \" + str(num_px) + \", 3)\")\n",
    "\n",
    "#Shape of the train and test datasets are printed\n",
    "print (\"train_set_x shape: \" + str(train_set_x_orig.shape))\n",
    "print (\"train_set_y shape: \" + str(train_set_y.shape))\n",
    "print (\"test_set_x shape: \" + str(test_set_x_orig.shape))\n",
    "print (\"test_set_y shape: \" + str(test_set_y.shape))"
   ]
  },
  {
   "cell_type": "markdown",
   "metadata": {},
   "source": [
    "#### 2.1.2 - Fixing ill-shape vectors ####\n",
    "It is possible that the train_set_y and test_set_y have an ill-shape. Fix these shapes so the train_set_y and test_set_y are represented as a matrix with size (1, number of examples)"
   ]
  },
  {
   "cell_type": "code",
   "execution_count": 7,
   "metadata": {},
   "outputs": [
    {
     "name": "stdout",
     "output_type": "stream",
     "text": [
      "train_set_y shape: (640,)\n",
      "test_set_y shape: (160,)\n"
     ]
    }
   ],
   "source": [
    "#Fixing the possible ill-shape\n",
    "#printing the shape of the train_set_y and test_set_y\n",
    "\n",
    "print (\"train_set_y shape: \" + str(train_set_y.shape))\n",
    "print (\"test_set_y shape: \" + str(test_set_y.shape))"
   ]
  },
  {
   "cell_type": "markdown",
   "metadata": {},
   "source": [
    "### 2.2 - Flatten the data\n",
    "Reshape the training and test data sets so that each image is flattened into single vectors of shape (num_px  ∗ num_px  ∗ 3, 1). Check the shapes for train_set_x_flatten and test_set_x_flatten."
   ]
  },
  {
   "cell_type": "code",
   "execution_count": 8,
   "metadata": {},
   "outputs": [
    {
     "name": "stdout",
     "output_type": "stream",
     "text": [
      "train_set_x_flatten shape: (12288, 640)\n",
      "train_set_y shape: (640,)\n",
      "test_set_x_flatten shape: (12288, 160)\n",
      "test_set_y shape: (160,)\n"
     ]
    }
   ],
   "source": [
    "# Reshaping the training and test examples\n",
    "train_set_x_flatten = train_set_x_orig.reshape(train_set_x_orig.shape[0], -1).T\n",
    "test_set_x_flatten = test_set_x_orig.reshape(test_set_x_orig.shape[0], -1).T\n",
    "\n",
    "#printing the flatten shape of data\n",
    "print (\"train_set_x_flatten shape: \" + str(train_set_x_flatten.shape))\n",
    "print (\"train_set_y shape: \" + str(train_set_y.shape))\n",
    "print (\"test_set_x_flatten shape: \" + str(test_set_x_flatten.shape))\n",
    "print (\"test_set_y shape: \" + str(test_set_y.shape))"
   ]
  },
  {
   "cell_type": "markdown",
   "metadata": {},
   "source": [
    "### 2.3 - Standardize the data\n",
    "Divide every row of the dataset by 255 "
   ]
  },
  {
   "cell_type": "code",
   "execution_count": 9,
   "metadata": {},
   "outputs": [
    {
     "name": "stdout",
     "output_type": "stream",
     "text": [
      "train_set_x_standard shape: (12288, 640)\n",
      "train_set_x_standard shape: (12288, 160)\n"
     ]
    }
   ],
   "source": [
    "#Standardising the data by dividing every row of the dataset by 255\n",
    "train_set_x = train_set_x_flatten/255.0\n",
    "test_set_x = test_set_x_flatten/255.0\n",
    "\n",
    "#printing the standardized shape of the dataset\n",
    "print (\"train_set_x_standard shape: \" + str(train_set_x.shape))\n",
    "print (\"train_set_x_standard shape: \" + str(test_set_x.shape))"
   ]
  },
  {
   "cell_type": "markdown",
   "metadata": {},
   "source": [
    "## 3 - Implementing the Helper Functions ## \n",
    "\n",
    "### 3.1 - Sigmoid function\n",
    "Implement `sigmoid()`. "
   ]
  },
  {
   "cell_type": "code",
   "execution_count": 10,
   "metadata": {},
   "outputs": [],
   "source": [
    "#This function performs the sigmoid functionality inorder to fix the output between 0 and 0.5.\n",
    "#Computing the sigmoid of z, where z is a scalar or numpy array of any size.\n",
    "\n",
    "\n",
    "def sigmoid(z):\n",
    "    \n",
    "\n",
    "    ###CODE STARTS HERE ### \n",
    "    s = 1/(1 + np.exp(-z))\n",
    "    ###CODE ENDS HERE ###\n",
    "    \n",
    "    return s"
   ]
  },
  {
   "cell_type": "code",
   "execution_count": 11,
   "metadata": {},
   "outputs": [
    {
     "name": "stdout",
     "output_type": "stream",
     "text": [
      "sigmoid([0, 2]) = [0.5        0.88079708]\n"
     ]
    }
   ],
   "source": [
    "#Printing the sigmoid output value\n",
    "print (\"sigmoid([0, 2]) = \" + str(sigmoid(np.array([0,2]))))"
   ]
  },
  {
   "cell_type": "markdown",
   "metadata": {},
   "source": [
    "### 3.2 - Implement initialize_with_zeros\n",
    "Write a function that initializes initialize w as a vector of zeros and set `b` to zero. "
   ]
  },
  {
   "cell_type": "code",
   "execution_count": 12,
   "metadata": {},
   "outputs": [],
   "source": [
    "#This function creates a vector of zeros of shape (dim, 1) for w and initializes b to 0.\n",
    "#dim -- size of the w vector we want (or number of parameters in this case)\n",
    "#Returns:  w -- initialized vector of shape (dim, 1) and b -- initialized scalar (corresponds to the bias)\n",
    "\n",
    "def initialize_with_zeros(dim):\n",
    "   \n",
    "    \n",
    "    ###CODE STARTS HERE ###\n",
    "    w = np.zeros((dim, 1))\n",
    "    b = 0\n",
    "    ###CODE ENDS HERE ###\n",
    "\n",
    "    assert(w.shape == (dim, 1))\n",
    "    assert(isinstance(b, float) or isinstance(b, int))\n",
    "    \n",
    "    return w, b"
   ]
  },
  {
   "cell_type": "code",
   "execution_count": 13,
   "metadata": {},
   "outputs": [
    {
     "name": "stdout",
     "output_type": "stream",
     "text": [
      "w = [[0.]\n",
      " [0.]]\n",
      "b = 0\n"
     ]
    }
   ],
   "source": [
    "dim = 2\n",
    "w, b = initialize_with_zeros(dim)\n",
    "\n",
    "#printing the 'w' and 'b' values\n",
    "print (\"w = \" + str(w))\n",
    "print (\"b = \" + str(b))"
   ]
  },
  {
   "cell_type": "markdown",
   "metadata": {},
   "source": [
    "### 3.3 - Forward propagation\n",
    "\n",
    "Implement forward propagation to calculate $A$ and cost.\n",
    "\n",
    "Forward Propagation:\n",
    "- You get X\n",
    "- You compute $A = \\sigma(w^T X + b) = (a^{(0)}, a^{(1)}, ..., a^{(m-1)}, a^{(m)})$\n",
    "- You calculate the cost function: $J = -\\frac{1}{m}\\sum_{i=1}^{m}y^{(i)}\\log(a^{(i)})+(1-y^{(i)})\\log(1-a^{(i)})$\n"
   ]
  },
  {
   "cell_type": "code",
   "execution_count": 14,
   "metadata": {},
   "outputs": [],
   "source": [
    "###This function implements the cost function and its gradient for the propagation explained above\n",
    "### where arguments are:\n",
    "#   w -- weights, a numpy array of size (num_px * num_px * 3, 1) #   b -- bias, a scalar\n",
    "#   Y -- true \"label\" vector (containing 0 if non-cat, 1 if cat) of size (1, number of examples)\n",
    "#   X -- data of size (num_px * num_px * 3, number of examples)\n",
    "\n",
    "### \n",
    "#   cost -- negative log-likelihood cost for logistic regression ; #   dw -- gradient of the loss with respect to w, thus same shape as w\n",
    "#   db -- gradient of the loss with respect to b, thus same shape as b\n",
    "\n",
    "### FORWARD PROPOGATION:\n",
    "def propagate(w, b, X, Y):\n",
    "    \n",
    "    m = X.shape[1]\n",
    "    \n",
    "    # FORWARD PROPAGATION (FROM X TO COST)\n",
    "    ### START CODE HERE ### \n",
    "    A = sigmoid(np.dot(w.T, X) + b)                                     # compute activation\n",
    "    cost = -1./m* np.sum(Y*np.log(A) + (1-Y)*np.log(1-A))               # compute cost\n",
    "    ### END CODE HERE ###\n",
    "    \n",
    "    ### START CODE HERE ### \n",
    "    dw = 1./m*np.dot(X, (A-Y).T)\n",
    "    db = 1./m*np.sum(A-Y)\n",
    "    ### END CODE HERE ###\n",
    "\n",
    "    assert(dw.shape == w.shape)\n",
    "    assert(db.dtype == float)\n",
    "    #cost = np.squeeze(cost)\n",
    "    #assert(cost.shape == ())\n",
    "    \n",
    "    grads = {\"dw\": dw,\n",
    "             \"db\": db}\n",
    "    \n",
    "    return grads, cost"
   ]
  },
  {
   "cell_type": "markdown",
   "metadata": {},
   "source": [
    "### 3.4 - Backward propagation\n",
    "\n",
    "Implement backward propagation to compute gradients $dw$ and $db$\n",
    "Here are the two formulas you will be using: \n",
    "\n",
    "$$ dw = \\frac{\\partial J}{\\partial w} = \\frac{1}{m}X(A-Y)^T\\tag{7}$$\n",
    "$$ db = \\frac{\\partial J}{\\partial b} = \\frac{1}{m} \\sum_{i=1}^m (a^{(i)}-y^{(i)})\\tag{8}$$"
   ]
  },
  {
   "cell_type": "code",
   "execution_count": 15,
   "metadata": {},
   "outputs": [],
   "source": [
    "# BACKWARD PROPAGATION (TO FIND GRAD)\n",
    "    ### START  ### \n",
    "def backwardpropagate(w, b, X, Y):\n",
    "    \n",
    "    m = X.shape[1]\n",
    "    \n",
    "    # FORWARD PROPAGATION (FROM X TO COST)\n",
    "    ### START CODE HERE ### \n",
    "    A = sigmoid(np.dot(w.T, X) + b)                                     # compute activation\n",
    "    cost = -1./m* np.sum(Y*np.log(A) + (1-Y)*np.log(1-A))               # compute cost\n",
    "    ### END CODE HERE ###\n",
    "    \n",
    "    ### START CODE HERE ### \n",
    "    dw = 1./m*np.dot(X, (A-Y).T)\n",
    "    db = 1./m*np.sum(A-Y)\n",
    "    ### END CODE HERE ###\n",
    "\n",
    "    assert(dw.shape == w.shape)\n",
    "    assert(db.dtype == float)\n",
    "    #cost = np.squeeze(cost)\n",
    "    #assert(cost.shape == ())\n",
    "    \n",
    "    grads = {\"dw\": dw,\n",
    "             \"db\": db}\n",
    "    \n",
    "    return grads\n",
    "    "
   ]
  },
  {
   "cell_type": "code",
   "execution_count": 16,
   "metadata": {},
   "outputs": [
    {
     "name": "stdout",
     "output_type": "stream",
     "text": [
      "dw = [[0.99993216]\n",
      " [1.99980262]]\n",
      "db = 0.49993523062470574\n",
      "cost = 6.000064773192205\n"
     ]
    }
   ],
   "source": [
    "# The method of FORWARD and BACKWARD propogation is implemented to compute gradients 𝑑𝑤  and  𝑑𝑏  \n",
    "# calculating the weights(w) and bias(b)  to determine the grads and cost\n",
    "\n",
    "w, b, X, Y = np.array([[1],[2]]), 2, np.array([[1,2],[3,4]]), np.array([[1,0]])\n",
    "grads, cost = propagate(w, b, X, Y)\n",
    "\n",
    "#printing the values of cost, dw and db which are obtained from w and b values\n",
    "print (\"dw = \" + str(grads[\"dw\"]))\n",
    "print (\"db = \" + str(grads[\"db\"]))\n",
    "print (\"cost = \" + str(cost))"
   ]
  },
  {
   "cell_type": "markdown",
   "metadata": {},
   "source": [
    "### 3.5 - Optimization\n",
    "- You have initialized your parameters.\n",
    "- You are also able to compute a cost function and its gradient.\n",
    "- Now, you want to update the parameters using gradient descent.\n",
    "\n",
    "Write down the optimization function. The goal is to learn $w$ and $b$ by minimizing the cost function $J$. "
   ]
  },
  {
   "cell_type": "code",
   "execution_count": 17,
   "metadata": {},
   "outputs": [],
   "source": [
    "   \"\"\"\n",
    "    This function optimizes w and b by running a gradient descent algorithm\n",
    "    \n",
    "    Arguments:\n",
    "    w -- weights, a numpy array of size (num_px * num_px * 3, 1)\n",
    "    b -- bias, a scalar\n",
    "    X -- data of shape (num_px * num_px * 3, number of examples)\n",
    "    Y -- true \"label\" vector (containing 0 if non-cat, 1 if cat), of shape (1, number of examples)\n",
    "    num_iterations -- number of iterations of the optimization loop\n",
    "    learning_rate -- learning rate of the gradient descent update rule\n",
    "    print_cost -- True to print the loss every 100 steps\n",
    "    \n",
    "    Returns:\n",
    "    params -- dictionary containing the weights w and bias b\n",
    "    grads -- dictionary containing the gradients of the weights and bias with respect to the cost function\n",
    "    costs -- list of all the costs computed during the optimization, this will be used to plot the learning curve.\n",
    "    \n",
    "    Tips:\n",
    "    You basically need to write down two steps and iterate through them:\n",
    "        1) Calculate the cost and the gradient for the current parameters. Use propagate().\n",
    "        2) Update the parameters using gradient descent rule for w and b.\n",
    "    \"\"\"\n",
    "\n",
    "def optimize(w, b, X, Y, num_iterations, learning_rate, print_cost = False):\n",
    "    \n",
    "    costs = []\n",
    "    \n",
    "    for i in range(num_iterations):\n",
    "        \n",
    "        \n",
    "  \n",
    "        ### START  ### \n",
    "        grads, cost =propagate(w, b, X, Y)\n",
    "        ### END  ###\n",
    "        \n",
    "        # Retrieve derivatives from grads\n",
    "        dw = grads[\"dw\"]\n",
    "        db = grads[\"db\"]\n",
    "        \n",
    "        \n",
    "        ### START  ###\n",
    "        w = w - learning_rate * dw\n",
    "        b = b - learning_rate * db\n",
    "        ### END  ###\n",
    "        \n",
    "        # Record the costs\n",
    "        if i % 100 == 0:\n",
    "            costs.append(cost)\n",
    "        \n",
    "        # Printing the cost every 100 training examples\n",
    "        if print_cost and i % 100 == 0:\n",
    "            print (\"Cost after iteration %i: %f\" %(i, cost))\n",
    "    \n",
    "    params = {\"w\": w,\n",
    "              \"b\": b}\n",
    "    \n",
    "    grads = {\"dw\": dw,\n",
    "             \"db\": db}\n",
    "    \n",
    "    return params, grads, costs "
   ]
  },
  {
   "cell_type": "code",
   "execution_count": 18,
   "metadata": {},
   "outputs": [
    {
     "name": "stdout",
     "output_type": "stream",
     "text": [
      "w = [[0.1124579 ]\n",
      " [0.23106775]]\n",
      "b = 1.5593049248448891\n",
      "dw = [[0.90158428]\n",
      " [1.76250842]]\n",
      "db = 0.4304620716786828\n"
     ]
    }
   ],
   "source": [
    "#calculating the values of the params, grads and costs form the optimize function\n",
    "\n",
    "params, grads, costs = optimize(w, b, X, Y, num_iterations= 100, learning_rate = 0.009, print_cost = False)\n",
    "\n",
    "print (\"w = \" + str(params[\"w\"]))\n",
    "print (\"b = \" + str(params[\"b\"]))\n",
    "print (\"dw = \" + str(grads[\"dw\"]))\n",
    "print (\"db = \" + str(grads[\"db\"]))"
   ]
  },
  {
   "cell_type": "markdown",
   "metadata": {},
   "source": [
    "### 3.6 - Prediction\n",
    "\n",
    "Implement the `predict()` function. There is two steps to computing predictions:\n",
    "\n",
    "1. Calculate $\\hat{Y} = A = \\sigma(w^T X + b)$\n",
    "\n",
    "2. Convert the entries of a into 0 (if activation <= 0.5) or 1 (if activation > 0.5), stores the predictions in a vector `Y_prediction`. If you wish, you can use an `if`/`else` statement in a `for` loop (though there is also a way to vectorize this). "
   ]
  },
  {
   "cell_type": "code",
   "execution_count": 45,
   "metadata": {},
   "outputs": [],
   "source": [
    "'''\n",
    "    Predict whether the label is 0 or 1 using learned logistic regression parameters (w, b)\n",
    "    \n",
    "    Arguments:\n",
    "    w -- weights, a numpy array of size (num_px * num_px * 3, 1)\n",
    "    b -- bias, a scalar\n",
    "    X -- data of size (num_px * num_px * 3, number of examples)\n",
    "    \n",
    "    Returns:\n",
    "    Y_prediction -- a numpy array (vector) containing all predictions (0/1) for the examples in X\n",
    "'''\n",
    "\n",
    "def predict(w, b, X):\n",
    "    print (\"w\", w)\n",
    "    print (\"b\", b)\n",
    "    print (\"X.shape\", X)\n",
    "    \n",
    "    print (\"w\", w.shape)\n",
    "    print (\"b\", b.shape)\n",
    "\n",
    "    m = X.shape[1]\n",
    "    Y_prediction = np.zeros((1,m))\n",
    "    w = w.reshape(X.shape[0], 1)\n",
    "    \n",
    "    # Computing vector \"A\" predicting the probabilities of a cat being present in the picture\n",
    "    ### START ###\n",
    "    A =   sigmoid(np.dot(w.T, X) + b)\n",
    "    ### END ###\n",
    "    \n",
    "    for i in range(A.shape[1]):\n",
    "        \n",
    "        # Convert probabilities A[0,i] to actual predictions p[0,i]\n",
    "        ### START CODE HERE ### (≈ 4 lines of code)\n",
    "        if A[0, i] > 0.5:\n",
    "            Y_prediction[0, i] = 1\n",
    "        else:\n",
    "             Y_prediction[0, i] = 0\n",
    "        ### END CODE HERE ###\n",
    "    \n",
    "    assert(Y_prediction.shape == (1, m))\n",
    "    \n",
    "    return Y_prediction"
   ]
  },
  {
   "cell_type": "code",
   "execution_count": 46,
   "metadata": {},
   "outputs": [
    {
     "name": "stdout",
     "output_type": "stream",
     "text": [
      "w [[1]\n",
      " [2]]\n",
      "b 2\n",
      "X.shape [[1 2]\n",
      " [3 4]]\n",
      "w (2, 1)\n"
     ]
    },
    {
     "ename": "AttributeError",
     "evalue": "'int' object has no attribute 'shape'",
     "output_type": "error",
     "traceback": [
      "\u001b[1;31m---------------------------------------------------------------------------\u001b[0m",
      "\u001b[1;31mAttributeError\u001b[0m                            Traceback (most recent call last)",
      "\u001b[1;32m<ipython-input-46-c0dc4c09a25a>\u001b[0m in \u001b[0;36m<module>\u001b[1;34m\u001b[0m\n\u001b[0;32m      1\u001b[0m \u001b[1;31m#printing the prediction values\u001b[0m\u001b[1;33m\u001b[0m\u001b[1;33m\u001b[0m\u001b[1;33m\u001b[0m\u001b[0m\n\u001b[1;32m----> 2\u001b[1;33m \u001b[0mprint\u001b[0m \u001b[1;33m(\u001b[0m\u001b[1;34m\"predictions = \"\u001b[0m \u001b[1;33m+\u001b[0m \u001b[0mstr\u001b[0m\u001b[1;33m(\u001b[0m\u001b[0mpredict\u001b[0m\u001b[1;33m(\u001b[0m\u001b[0mw\u001b[0m\u001b[1;33m,\u001b[0m \u001b[0mb\u001b[0m\u001b[1;33m,\u001b[0m \u001b[0mX\u001b[0m\u001b[1;33m)\u001b[0m\u001b[1;33m)\u001b[0m\u001b[1;33m)\u001b[0m\u001b[1;33m\u001b[0m\u001b[1;33m\u001b[0m\u001b[0m\n\u001b[0m",
      "\u001b[1;32m<ipython-input-45-ef6b1b07ad3a>\u001b[0m in \u001b[0;36mpredict\u001b[1;34m(w, b, X)\u001b[0m\n\u001b[0;32m     17\u001b[0m \u001b[1;33m\u001b[0m\u001b[0m\n\u001b[0;32m     18\u001b[0m     \u001b[0mprint\u001b[0m \u001b[1;33m(\u001b[0m\u001b[1;34m\"w\"\u001b[0m\u001b[1;33m,\u001b[0m \u001b[0mw\u001b[0m\u001b[1;33m.\u001b[0m\u001b[0mshape\u001b[0m\u001b[1;33m)\u001b[0m\u001b[1;33m\u001b[0m\u001b[1;33m\u001b[0m\u001b[0m\n\u001b[1;32m---> 19\u001b[1;33m     \u001b[0mprint\u001b[0m \u001b[1;33m(\u001b[0m\u001b[1;34m\"b\"\u001b[0m\u001b[1;33m,\u001b[0m \u001b[0mb\u001b[0m\u001b[1;33m.\u001b[0m\u001b[0mshape\u001b[0m\u001b[1;33m)\u001b[0m\u001b[1;33m\u001b[0m\u001b[1;33m\u001b[0m\u001b[0m\n\u001b[0m\u001b[0;32m     20\u001b[0m \u001b[1;33m\u001b[0m\u001b[0m\n\u001b[0;32m     21\u001b[0m     \u001b[0mm\u001b[0m \u001b[1;33m=\u001b[0m \u001b[0mX\u001b[0m\u001b[1;33m.\u001b[0m\u001b[0mshape\u001b[0m\u001b[1;33m[\u001b[0m\u001b[1;36m1\u001b[0m\u001b[1;33m]\u001b[0m\u001b[1;33m\u001b[0m\u001b[1;33m\u001b[0m\u001b[0m\n",
      "\u001b[1;31mAttributeError\u001b[0m: 'int' object has no attribute 'shape'"
     ]
    }
   ],
   "source": [
    "#printing the prediction values\n",
    "print (\"predictions = \" + str(predict(w, b, X)))"
   ]
  },
  {
   "cell_type": "markdown",
   "metadata": {},
   "source": [
    "## 4 - Regression Model ##\n",
    "Implement the model function. Use the following notation:\n",
    "    - Y_prediction for your predictions on the test set\n",
    "    - Y_prediction_train for your predictions on the train set\n",
    "    - w, costs, grads for the outputs of optimize()"
   ]
  },
  {
   "cell_type": "code",
   "execution_count": 48,
   "metadata": {},
   "outputs": [],
   "source": [
    "# GRADED FUNCTION: model\n",
    "\n",
    "def model(X_train, Y_train, X_test, Y_test, num_iterations = 2000, learning_rate = 0.5, print_cost = False):\n",
    "    \"\"\"\n",
    "    Builds the logistic regression model by calling the function you've implemented previously\n",
    "    \n",
    "    Arguments:\n",
    "    X_train -- training set represented by a numpy array of shape (num_px * num_px * 3, m_train)\n",
    "    Y_train -- training labels represented by a numpy array (vector) of shape (1, m_train)\n",
    "    X_test -- test set represented by a numpy array of shape (num_px * num_px * 3, m_test)\n",
    "    Y_test -- test labels represented by a numpy array (vector) of shape (1, m_test)\n",
    "    num_iterations -- hyperparameter representing the number of iterations to optimize the parameters\n",
    "    learning_rate -- hyperparameter representing the learning rate used in the update rule of optimize()\n",
    "    print_cost -- Set to true to print the cost every 100 iterations\n",
    "    \n",
    "    Returns:\n",
    "    d -- dictionary containing information about the model.\n",
    "    \"\"\"\n",
    "    \n",
    "    ### START ###\n",
    "    \n",
    "    # initialize parameters with zeros\n",
    "    w, b = initialize_with_zeros(X_train.shape[0])\n",
    "\n",
    "    # Gradient descent\n",
    "    parameters, grads, costs = optimize(w, b, X_train, Y_train, num_iterations, learning_rate, print_cost = print_cost)\n",
    "    \n",
    "    # Retrieve parameters w and b from dictionary \"parameters\"\n",
    "    w = parameters[\"w\"]\n",
    "    b = parameters[\"b\"]\n",
    "    print(\"w-shape\", w.shape)\n",
    "    print(\"b-shape\", b.shape)\n",
    "    print(\"X_train\", X_train.shape)\n",
    "    print(\"X_test\", X_test.shape)\n",
    "    \n",
    "    # Predict test/train set examples \n",
    "    Y_prediction_test = predict(w, b, X_test)\n",
    "    Y_prediction_train = predict(w, b, X_train)\n",
    "\n",
    "    ### END ###\n",
    "\n",
    "    # Print train/test Errors\n",
    "    print(\"train accuracy: {} %\".format(100 - np.mean(np.abs(Y_prediction_train - Y_train)) * 100))\n",
    "    print(\"test accuracy: {} %\".format(100 - np.mean(np.abs(Y_prediction_test - Y_test)) * 100))\n",
    "\n",
    "    \n",
    "    d = {\"costs\": costs,\n",
    "         \"Y_prediction_test\": Y_prediction_test, \n",
    "         \"Y_prediction_train\" : Y_prediction_train, \n",
    "         \"w\" : w, \n",
    "         \"b\" : b,\n",
    "         \"learning_rate\" : learning_rate,\n",
    "         \"num_iterations\": num_iterations}\n",
    "    \n",
    "    return d"
   ]
  },
  {
   "cell_type": "markdown",
   "metadata": {},
   "source": [
    "## 5. Run the regression model function to train your model.\n",
    "\n",
    "### 5.1 - Setting parameters (part 1)\n",
    "\n",
    "Set the `num_iterations` to 5000 and `learning_rate` to 0.0005"
   ]
  },
  {
   "cell_type": "code",
   "execution_count": 49,
   "metadata": {},
   "outputs": [
    {
     "name": "stdout",
     "output_type": "stream",
     "text": [
      "Cost after iteration 0: 0.693147\n",
      "Cost after iteration 100: 0.652803\n",
      "Cost after iteration 200: 0.642602\n",
      "Cost after iteration 300: 0.633797\n",
      "Cost after iteration 400: 0.625975\n",
      "Cost after iteration 500: 0.618892\n",
      "Cost after iteration 600: 0.612393\n",
      "Cost after iteration 700: 0.606368\n",
      "Cost after iteration 800: 0.600740\n",
      "Cost after iteration 900: 0.595449\n",
      "Cost after iteration 1000: 0.590450\n",
      "Cost after iteration 1100: 0.585706\n",
      "Cost after iteration 1200: 0.581187\n",
      "Cost after iteration 1300: 0.576869\n",
      "Cost after iteration 1400: 0.572731\n",
      "Cost after iteration 1500: 0.568754\n",
      "Cost after iteration 1600: 0.564924\n",
      "Cost after iteration 1700: 0.561228\n",
      "Cost after iteration 1800: 0.557655\n",
      "Cost after iteration 1900: 0.554193\n",
      "Cost after iteration 2000: 0.550836\n",
      "Cost after iteration 2100: 0.547574\n",
      "Cost after iteration 2200: 0.544401\n",
      "Cost after iteration 2300: 0.541311\n",
      "Cost after iteration 2400: 0.538298\n",
      "Cost after iteration 2500: 0.535358\n",
      "Cost after iteration 2600: 0.532486\n",
      "Cost after iteration 2700: 0.529678\n",
      "Cost after iteration 2800: 0.526930\n",
      "Cost after iteration 2900: 0.524239\n",
      "Cost after iteration 3000: 0.521602\n",
      "Cost after iteration 3100: 0.519017\n",
      "Cost after iteration 3200: 0.516480\n",
      "Cost after iteration 3300: 0.513989\n",
      "Cost after iteration 3400: 0.511543\n",
      "Cost after iteration 3500: 0.509138\n",
      "Cost after iteration 3600: 0.506775\n",
      "Cost after iteration 3700: 0.504449\n",
      "Cost after iteration 3800: 0.502161\n",
      "Cost after iteration 3900: 0.499908\n",
      "Cost after iteration 4000: 0.497690\n",
      "Cost after iteration 4100: 0.495504\n",
      "Cost after iteration 4200: 0.493351\n",
      "Cost after iteration 4300: 0.491227\n",
      "Cost after iteration 4400: 0.489133\n",
      "Cost after iteration 4500: 0.487068\n",
      "Cost after iteration 4600: 0.485030\n",
      "Cost after iteration 4700: 0.483019\n",
      "Cost after iteration 4800: 0.481034\n",
      "Cost after iteration 4900: 0.479074\n",
      "w-shape (12288, 1)\n",
      "b-shape ()\n",
      "X_train (12288, 640)\n",
      "X_test (12288, 160)\n",
      "w [[-0.00333435]\n",
      " [-0.00298413]\n",
      " [ 0.00067212]\n",
      " ...\n",
      " [-0.00228628]\n",
      " [-0.00392048]\n",
      " [-0.00113168]]\n",
      "b -0.020288859529036342\n",
      "X.shape [[0.10980392 0.43137255 0.59215686 ... 0.3372549  0.73333333 0.41568627]\n",
      " [0.13333333 0.56862745 0.63137255 ... 0.5254902  0.69803922 0.32941176]\n",
      " [0.10588235 0.49803922 0.60392157 ... 0.46666667 0.83921569 0.21960784]\n",
      " ...\n",
      " [0.47058824 0.7254902  0.71764706 ... 0.54901961 0.47843137 0.95686275]\n",
      " [0.51764706 0.71764706 0.60392157 ... 0.44313725 0.44313725 0.94509804]\n",
      " [0.49019608 0.7254902  0.56862745 ... 0.48627451 0.38039216 0.90980392]]\n",
      "w (12288, 1)\n",
      "b ()\n",
      "w [[-0.00333435]\n",
      " [-0.00298413]\n",
      " [ 0.00067212]\n",
      " ...\n",
      " [-0.00228628]\n",
      " [-0.00392048]\n",
      " [-0.00113168]]\n",
      "b -0.020288859529036342\n",
      "X.shape [[0.38039216 0.62745098 0.58431373 ... 0.45882353 0.54901961 0.12156863]\n",
      " [0.40392157 0.65490196 0.58823529 ... 0.45490196 0.55686275 0.11372549]\n",
      " [0.36862745 0.64705882 0.60784314 ... 0.43921569 0.56078431 0.11372549]\n",
      " ...\n",
      " [0.63921569 0.49803922 0.52156863 ... 0.9254902  0.11764706 0.14509804]\n",
      " [0.63921569 0.47843137 0.57647059 ... 0.87843137 0.12156863 0.24313725]\n",
      " [0.66666667 0.48235294 0.5254902  ... 0.92941176 0.1372549  0.0745098 ]]\n",
      "w (12288, 1)\n",
      "b ()\n",
      "train accuracy: 80.78125 %\n",
      "test accuracy: 64.375 %\n"
     ]
    }
   ],
   "source": [
    "#setting the number of iteration to 5000 and learning rate as 0.0005 and estimating the cost and the accuracy values\n",
    "\n",
    "d = model(train_set_x, train_set_y, test_set_x, test_set_y, num_iterations = 5000, learning_rate = 0.0005, print_cost = True)"
   ]
  },
  {
   "cell_type": "code",
   "execution_count": 23,
   "metadata": {},
   "outputs": [],
   "source": [
    "#y_pred_train = predictions( w = final_params[\"weights\"], b = final_params[\"bias\"], X = train_set_x )\n",
    "#print( \"%.2f%%\" %( 100.0*np.sum(y_pred_train == train_set_y)/train_set_y.shape[1] ) )"
   ]
  },
  {
   "cell_type": "code",
   "execution_count": 24,
   "metadata": {},
   "outputs": [],
   "source": [
    "#y_pred_test = predictions( w = final_params[\"weights\"], b = final_params[\"bias\"], X = test_set_x )\n",
    "#print( \"%.2f%%\" %( 100.0*np.sum(y_pred_test == test_set_y)/test_set_y.shape[1] ) )"
   ]
  },
  {
   "cell_type": "markdown",
   "metadata": {},
   "source": [
    "**Expected Output**: \n",
    "\n",
    "<table style=\"width:40%\"> \n",
    "    \n",
    "    <tr>\n",
    "        <td> **Train Accuracy**  </td> \n",
    "        <td> 80.78125 % </td>\n",
    "    </tr>\n",
    "\n",
    "    <tr>\n",
    "        <td>**Test Accuracy** </td> \n",
    "        <td> 64.375 % </td>\n",
    "    </tr>\n",
    "</table> \n",
    "\n",
    "\n"
   ]
  },
  {
   "cell_type": "markdown",
   "metadata": {},
   "source": [
    "Plotting the cost function and the gradients."
   ]
  },
  {
   "cell_type": "code",
   "execution_count": 25,
   "metadata": {},
   "outputs": [
    {
     "data": {
      "image/png": "[encoded data removed]",
      "text/plain": [
       "<Figure size 432x288 with 1 Axes>"
      ]
     },
     "metadata": {
      "needs_background": "light"
     },
     "output_type": "display_data"
    }
   ],
   "source": [
    "# Plot learning curve (with costs) for 5000 iterations with learning factor 0.0005\n",
    "costs = np.squeeze(d['costs'])\n",
    "plt.plot(costs)\n",
    "plt.ylabel('cost')\n",
    "plt.xlabel('iterations (per hundreds)')\n",
    "plt.title(\"PLOT-1 \\n\\n Learning rate =\" + str(d[\"learning_rate\"]))\n",
    "plt.show()"
   ]
  },
  {
   "cell_type": "markdown",
   "metadata": {},
   "source": [
    "### 5.1 - Setting parameters (part 2)\n",
    "\n",
    "Set the `num_iterations` to 2000 and `learning_rate` to 0.005 and run the model again. Plot the cost function."
   ]
  },
  {
   "cell_type": "code",
   "execution_count": 26,
   "metadata": {},
   "outputs": [
    {
     "name": "stdout",
     "output_type": "stream",
     "text": [
      "Cost after iteration 0: 0.693147\n",
      "Cost after iteration 100: 0.835387\n",
      "Cost after iteration 200: 0.791591\n",
      "Cost after iteration 300: 0.753244\n",
      "Cost after iteration 400: 0.717081\n",
      "Cost after iteration 500: 0.682776\n",
      "Cost after iteration 600: 0.650456\n",
      "Cost after iteration 700: 0.620043\n",
      "Cost after iteration 800: 0.591323\n",
      "Cost after iteration 900: 0.564055\n",
      "Cost after iteration 1000: 0.538031\n",
      "Cost after iteration 1100: 0.513085\n",
      "Cost after iteration 1200: 0.489088\n",
      "Cost after iteration 1300: 0.465942\n",
      "Cost after iteration 1400: 0.443566\n",
      "Cost after iteration 1500: 0.421892\n",
      "Cost after iteration 1600: 0.400859\n",
      "Cost after iteration 1700: 0.380414\n",
      "Cost after iteration 1800: 0.360521\n",
      "Cost after iteration 1900: 0.341180\n",
      "train accuracy: 91.25 %\n",
      "test accuracy: 60.0 %\n"
     ]
    }
   ],
   "source": [
    "#setting the number of iteration to 2000 and learning rate as 0.005 and estimating the cost and the accuracy values\n",
    "\n",
    "d = model(train_set_x, train_set_y, test_set_x, test_set_y, num_iterations = 2000, learning_rate = 0.005, print_cost = True)"
   ]
  },
  {
   "cell_type": "code",
   "execution_count": 27,
   "metadata": {},
   "outputs": [
    {
     "data": {
      "image/png": "[encoded data removed]",
      "text/plain": [
       "<Figure size 432x288 with 1 Axes>"
      ]
     },
     "metadata": {
      "needs_background": "light"
     },
     "output_type": "display_data"
    }
   ],
   "source": [
    "# Plot learning curve (with costs)\n",
    "costs = np.squeeze(d['costs'])\n",
    "plt.plot(costs)\n",
    "plt.ylabel('cost')\n",
    "plt.xlabel('iterations (per hundreds)')\n",
    "plt.title(\"PLOT-2 \\n\\n Learning rate =\" + str(d[\"learning_rate\"]))\n",
    "plt.show()\n"
   ]
  },
  {
   "cell_type": "markdown",
   "metadata": {},
   "source": [
    "\n",
    "## 5.3 - Analysis\n",
    "\n",
    "Compare the cost function plots of part_1 and part_2. Write your observation below."
   ]
  },
  {
   "cell_type": "markdown",
   "metadata": {},
   "source": [
    "#### Observation:\n",
    "\n",
    "The following data are inferred fromn the obtained plots (PLOT-1 and PLOT-2)\n",
    "\n",
    "1) In plot-1, the number of iteration was set as 5000 with learning factor as 0.0005.\n",
    "    - In this plot it is observed that the cost was decreasing continuously from 0.69 to 0.34 for each iteration.\n",
    "    - The Training set accuracy is 80.78125 and the Test set accuracy is 64.375 \n",
    "   \n",
    "2) In plot-2, the number of iteration was set as 2000 with learning factor as 0.005.\n",
    "    - In this plot it is noticed that the cost was shooting higher first from 0.69 to 0.83 and then it started decreasing continuously from 0.83 to 0.34 in each iteration.\n",
    "    - The Training set accuracy is 91.25 and the Test set accuracy is 60.00 \n",
    "\n",
    "Inference: \n",
    "    - Both plots shows that the parameters including the weight and bias are learned in each iteration.\n",
    "    - When the number of iterations are increased beyond 5000 to 7000, it is observed that the training set accuracy increases but on the other hand the test set accuracy decreases considerably.\n",
    "    - Also the learning rate value modifies the value of resulting model accuracy .\n",
    "    - The Learning rate also contributes for the cost oscillation rate. The increase in the learning rate leads to increase in training accuracy with decrease in test data accuracy\n",
    "    "
   ]
  },
  {
   "cell_type": "code",
   "execution_count": 28,
   "metadata": {},
   "outputs": [],
   "source": [
    "### Till now, the training and the test accutracy for the cat and dog images are calculated and the results are obtained ###\n",
    "#-----------------------------------------------------------------------------------------------------------------------------#\n",
    "### The algorithm is going to be checked for the train, test and dev-data accuracy through the code mentioned below ###"
   ]
  },
  {
   "cell_type": "markdown",
   "metadata": {},
   "source": [
    "\n",
    "##  6.1 - CAR DATASET ANALYSIS\n"
   ]
  },
  {
   "cell_type": "code",
   "execution_count": 29,
   "metadata": {},
   "outputs": [],
   "source": [
    "#Loading the dataset values from the given load_dataset.py file\n",
    "\n",
    "def load_dataset(database_path):\n",
    "    # open dataset \n",
    "    dataset_db = h5py.File('car_dataset.hdf5', 'r')\n",
    "    \n",
    "    \n",
    "    datasets = {}\n",
    "    for dataset in [\"train\", \"dev\", \"test\"]:\n",
    "        \n",
    "        # load the train set feautres (picuture)\n",
    "        datasets[dataset] = {'X' : np.array(dataset_db[dataset + \"_img\"][:]),  # dataset features\n",
    "                              'Y' : np.array(dataset_db[dataset + \"_labels\"][:]) # dataset labels\n",
    "                            }\n",
    "    return datasets"
   ]
  },
  {
   "cell_type": "markdown",
   "metadata": {},
   "source": [
    "\n",
    "## 6.2 - Obtaining the Training, Development and Test dataset values"
   ]
  },
  {
   "cell_type": "code",
   "execution_count": 30,
   "metadata": {},
   "outputs": [],
   "source": [
    "#The values from the hdf5 files are stored in the database variable\n",
    "database=load_dataset('./HomeWork/car_dataset.hdf5')\n",
    "\n",
    "#The Train set data, Test set data and Dev set data are obtained individually and stored in different variables\n",
    "Train_Set_X = database[\"train\"][\"X\"]\n",
    "Train_Set_Y = database[\"train\"][\"Y\"]\n",
    "Dev_Set_X = database[\"dev\"][\"X\"]\n",
    "Dev_Set_Y = database[\"dev\"][\"Y\"]\n",
    "Test_Set_X = database[\"test\"][\"X\"]\n",
    "Test_Set_Y = database[\"test\"][\"Y\"]\n"
   ]
  },
  {
   "cell_type": "markdown",
   "metadata": {},
   "source": [
    "\n",
    "## 6.3 - Reshaping the dataset values\n"
   ]
  },
  {
   "cell_type": "code",
   "execution_count": 31,
   "metadata": {},
   "outputs": [
    {
     "name": "stdout",
     "output_type": "stream",
     "text": [
      "Number of training examples: m_train_car = 517\n",
      "Number of dev-data examples: m_dev_car = 172\n",
      "Number of testing examples: m_test_car = 173\n",
      "Height/Width of each image: num_px = 517\n",
      "Each image is of size: (517, 517, 3)\n",
      "Train_set_x shape: (517, 64, 64, 3)\n",
      "Train_set_y shape: (517,)\n",
      "Dev_set_x shape: (172, 64, 64, 3)\n",
      "Dev_set_y shape: (172,)\n",
      "Test_set_x shape: (173, 64, 64, 3)\n",
      "Test_set_y shape: (173,)\n"
     ]
    }
   ],
   "source": [
    "#Reshaping the variable values\n",
    "### START ###\n",
    "m_train_car = Train_Set_Y.shape[0]\n",
    "m_dev_car = Dev_Set_Y.shape[0]\n",
    "m_test_car = Test_Set_Y.shape[0]\n",
    "num_px_car = Train_Set_X.shape[0]\n",
    "### END ###\n",
    "\n",
    "#Printing the values of m_test, m_train and num_px\n",
    "print (\"Number of training examples: m_train_car = \" + str(m_train_car))\n",
    "print (\"Number of dev-data examples: m_dev_car = \" + str(m_dev_car))\n",
    "print (\"Number of testing examples: m_test_car = \" + str(m_test_car))\n",
    "print (\"Height/Width of each image: num_px = \" + str(num_px_car))\n",
    "print (\"Each image is of size: (\" + str(num_px_car) + \", \" + str(num_px_car) + \", 3)\")\n",
    "\n",
    "#Shape of the train,dev and test datasets are printed\n",
    "print (\"Train_set_x shape: \" + str(Train_Set_X.shape))\n",
    "print (\"Train_set_y shape: \" + str(Train_Set_Y.shape))\n",
    "print (\"Dev_set_x shape: \" + str(Dev_Set_X.shape))\n",
    "print (\"Dev_set_y shape: \" + str(Dev_Set_Y.shape))\n",
    "print (\"Test_set_x shape: \" + str(Test_Set_X.shape))\n",
    "print (\"Test_set_y shape: \" + str(Test_Set_Y.shape))"
   ]
  },
  {
   "cell_type": "markdown",
   "metadata": {},
   "source": [
    "\n",
    "## 6.4 - Flatten the data\n",
    "\n",
    "Reshape the training and test data sets so that each image is flattened into single vectors of shape (num_px  ∗ num_px  ∗ 3,1). Check the shapes for train_set_x_flatten and test_set_x_flatten."
   ]
  },
  {
   "cell_type": "code",
   "execution_count": 32,
   "metadata": {},
   "outputs": [
    {
     "name": "stdout",
     "output_type": "stream",
     "text": [
      "train_set_x_flatten shape: (12288, 517)\n",
      "train_set_y shape: (517,)\n",
      "dev_set_x_flatten shape: (12288, 172)\n",
      "dev_set_y shape: (172,)\n",
      "test_set_x_flatten shape: (12288, 173)\n",
      "test_set_y shape: (173,)\n"
     ]
    }
   ],
   "source": [
    "# Reshape the training and test examples\n",
    "\n",
    "### START CODE HERE ### (≈ 2 lines of code)\n",
    "Train_set_x_flatten = Train_Set_X.reshape(Train_Set_X.shape[0], -1).T\n",
    "Dev_set_x_flatten = Dev_Set_X.reshape(Dev_Set_X.shape[0], -1).T\n",
    "Test_set_x_flatten = Test_Set_X.reshape(Test_Set_X.shape[0], -1).T\n",
    "### END CODE HERE ###\n",
    "\n",
    "print (\"train_set_x_flatten shape: \" + str(Train_set_x_flatten.shape))\n",
    "print (\"train_set_y shape: \" + str(Train_Set_Y.shape))\n",
    "print (\"dev_set_x_flatten shape: \" + str(Dev_set_x_flatten.shape))\n",
    "print (\"dev_set_y shape: \" + str(Dev_Set_Y.shape))\n",
    "print (\"test_set_x_flatten shape: \" + str(Test_set_x_flatten.shape))\n",
    "print (\"test_set_y shape: \" + str(Test_Set_Y.shape))"
   ]
  },
  {
   "cell_type": "markdown",
   "metadata": {},
   "source": [
    "\n",
    "## 6.5 - STANDARDIZING THE DATASET VALUES\n"
   ]
  },
  {
   "cell_type": "code",
   "execution_count": 33,
   "metadata": {},
   "outputs": [
    {
     "name": "stdout",
     "output_type": "stream",
     "text": [
      "Train_set_x_standard shape: (12288, 517)\n",
      "Drain_set_x_standard shape: (12288, 172)\n",
      "Test_set_x_standard shape: (12288, 173)\n"
     ]
    }
   ],
   "source": [
    "Train_set_x = Train_set_x_flatten/255.0\n",
    "Dev_set_x = Dev_set_x_flatten/255.0\n",
    "Test_set_x = Test_set_x_flatten/255.0\n",
    "print (\"Train_set_x_standard shape: \" + str(Train_set_x.shape))\n",
    "print (\"Drain_set_x_standard shape: \" + str(Dev_set_x.shape))\n",
    "print (\"Test_set_x_standard shape: \" + str(Test_set_x.shape))"
   ]
  },
  {
   "cell_type": "markdown",
   "metadata": {},
   "source": [
    "\n",
    "# 7 - Run the regression model function to train your model.\n",
    "\n",
    "### 7.1.1 - SETTING PARAMETERS (PART-1) FOR TRAIN AND TEST DATA\n",
    "\n",
    "#Set the `num_iterations` to 5000 and `learning_rate` to 0.0005\n"
   ]
  },
  {
   "cell_type": "code",
   "execution_count": 34,
   "metadata": {},
   "outputs": [
    {
     "name": "stdout",
     "output_type": "stream",
     "text": [
      "Cost after iteration 0: 0.693147\n",
      "Cost after iteration 100: 0.548509\n",
      "Cost after iteration 200: 0.496297\n",
      "Cost after iteration 300: 0.459536\n",
      "Cost after iteration 400: 0.432244\n",
      "Cost after iteration 500: 0.411066\n",
      "Cost after iteration 600: 0.394034\n",
      "Cost after iteration 700: 0.379940\n",
      "Cost after iteration 800: 0.368004\n",
      "Cost after iteration 900: 0.357705\n",
      "Cost after iteration 1000: 0.348679\n",
      "Cost after iteration 1100: 0.340667\n",
      "Cost after iteration 1200: 0.333477\n",
      "Cost after iteration 1300: 0.326965\n",
      "Cost after iteration 1400: 0.321019\n",
      "Cost after iteration 1500: 0.315553\n",
      "Cost after iteration 1600: 0.310498\n",
      "Cost after iteration 1700: 0.305796\n",
      "Cost after iteration 1800: 0.301404\n",
      "Cost after iteration 1900: 0.297283\n",
      "Cost after iteration 2000: 0.293401\n",
      "Cost after iteration 2100: 0.289732\n",
      "Cost after iteration 2200: 0.286254\n",
      "Cost after iteration 2300: 0.282948\n",
      "Cost after iteration 2400: 0.279796\n",
      "Cost after iteration 2500: 0.276785\n",
      "Cost after iteration 2600: 0.273902\n",
      "Cost after iteration 2700: 0.271136\n",
      "Cost after iteration 2800: 0.268477\n",
      "Cost after iteration 2900: 0.265917\n",
      "Cost after iteration 3000: 0.263449\n",
      "Cost after iteration 3100: 0.261066\n",
      "Cost after iteration 3200: 0.258761\n",
      "Cost after iteration 3300: 0.256529\n",
      "Cost after iteration 3400: 0.254366\n",
      "Cost after iteration 3500: 0.252267\n",
      "Cost after iteration 3600: 0.250228\n",
      "Cost after iteration 3700: 0.248245\n",
      "Cost after iteration 3800: 0.246316\n",
      "Cost after iteration 3900: 0.244436\n",
      "Cost after iteration 4000: 0.242604\n",
      "Cost after iteration 4100: 0.240816\n",
      "Cost after iteration 4200: 0.239071\n",
      "Cost after iteration 4300: 0.237366\n",
      "Cost after iteration 4400: 0.235700\n",
      "Cost after iteration 4500: 0.234070\n",
      "Cost after iteration 4600: 0.232474\n",
      "Cost after iteration 4700: 0.230912\n",
      "Cost after iteration 4800: 0.229381\n",
      "Cost after iteration 4900: 0.227881\n",
      "train accuracy: 92.06963249516441 %\n",
      "test accuracy: 87.28323699421965 %\n"
     ]
    }
   ],
   "source": [
    "d = model(Train_set_x, Train_Set_Y, Test_set_x, Test_Set_Y, num_iterations = 5000, learning_rate = 0.0005, print_cost = True)"
   ]
  },
  {
   "cell_type": "code",
   "execution_count": 35,
   "metadata": {},
   "outputs": [
    {
     "data": {
      "image/png": "[encoded data removed]",
      "text/plain": [
       "<Figure size 432x288 with 1 Axes>"
      ]
     },
     "metadata": {
      "needs_background": "light"
     },
     "output_type": "display_data"
    }
   ],
   "source": [
    "# Plot learning curve (with costs)\n",
    "costs = np.squeeze(d['costs'])\n",
    "plt.plot(costs)\n",
    "plt.ylabel('cost')\n",
    "plt.xlabel('iterations (per hundreds)')\n",
    "plt.title(\"PLOT-3 \\n\\n Learning rate =\" + str(d[\"learning_rate\"]))\n",
    "plt.show()"
   ]
  },
  {
   "cell_type": "markdown",
   "metadata": {},
   "source": [
    "\n",
    "# 7 - Run the regression model function to train your model.\n",
    "\n",
    "### 7.1.2 - SETTING PARAMETERS (PART-1) FOR TRAIN AND DEV DATA\n",
    "\n",
    "#Set the `num_iterations` to 5000 and `learning_rate` to 0.0005"
   ]
  },
  {
   "cell_type": "code",
   "execution_count": 36,
   "metadata": {},
   "outputs": [
    {
     "name": "stdout",
     "output_type": "stream",
     "text": [
      "Cost after iteration 0: 0.693147\n",
      "Cost after iteration 100: 0.548509\n",
      "Cost after iteration 200: 0.496297\n",
      "Cost after iteration 300: 0.459536\n",
      "Cost after iteration 400: 0.432244\n",
      "Cost after iteration 500: 0.411066\n",
      "Cost after iteration 600: 0.394034\n",
      "Cost after iteration 700: 0.379940\n",
      "Cost after iteration 800: 0.368004\n",
      "Cost after iteration 900: 0.357705\n",
      "Cost after iteration 1000: 0.348679\n",
      "Cost after iteration 1100: 0.340667\n",
      "Cost after iteration 1200: 0.333477\n",
      "Cost after iteration 1300: 0.326965\n",
      "Cost after iteration 1400: 0.321019\n",
      "Cost after iteration 1500: 0.315553\n",
      "Cost after iteration 1600: 0.310498\n",
      "Cost after iteration 1700: 0.305796\n",
      "Cost after iteration 1800: 0.301404\n",
      "Cost after iteration 1900: 0.297283\n",
      "Cost after iteration 2000: 0.293401\n",
      "Cost after iteration 2100: 0.289732\n",
      "Cost after iteration 2200: 0.286254\n",
      "Cost after iteration 2300: 0.282948\n",
      "Cost after iteration 2400: 0.279796\n",
      "Cost after iteration 2500: 0.276785\n",
      "Cost after iteration 2600: 0.273902\n",
      "Cost after iteration 2700: 0.271136\n",
      "Cost after iteration 2800: 0.268477\n",
      "Cost after iteration 2900: 0.265917\n",
      "Cost after iteration 3000: 0.263449\n",
      "Cost after iteration 3100: 0.261066\n",
      "Cost after iteration 3200: 0.258761\n",
      "Cost after iteration 3300: 0.256529\n",
      "Cost after iteration 3400: 0.254366\n",
      "Cost after iteration 3500: 0.252267\n",
      "Cost after iteration 3600: 0.250228\n",
      "Cost after iteration 3700: 0.248245\n",
      "Cost after iteration 3800: 0.246316\n",
      "Cost after iteration 3900: 0.244436\n",
      "Cost after iteration 4000: 0.242604\n",
      "Cost after iteration 4100: 0.240816\n",
      "Cost after iteration 4200: 0.239071\n",
      "Cost after iteration 4300: 0.237366\n",
      "Cost after iteration 4400: 0.235700\n",
      "Cost after iteration 4500: 0.234070\n",
      "Cost after iteration 4600: 0.232474\n",
      "Cost after iteration 4700: 0.230912\n",
      "Cost after iteration 4800: 0.229381\n",
      "Cost after iteration 4900: 0.227881\n",
      "train accuracy: 92.06963249516441 %\n",
      "test accuracy: 92.44186046511628 %\n"
     ]
    }
   ],
   "source": [
    "d = model(Train_set_x, Train_Set_Y, Dev_set_x, Dev_Set_Y, num_iterations = 5000, learning_rate = 0.0005, print_cost = True)"
   ]
  },
  {
   "cell_type": "code",
   "execution_count": 37,
   "metadata": {},
   "outputs": [
    {
     "data": {
      "image/png": "[encoded data removed]",
      "text/plain": [
       "<Figure size 432x288 with 1 Axes>"
      ]
     },
     "metadata": {
      "needs_background": "light"
     },
     "output_type": "display_data"
    }
   ],
   "source": [
    "# Plot learning curve (with costs)\n",
    "costs = np.squeeze(d['costs'])\n",
    "plt.plot(costs)\n",
    "plt.ylabel('cost')\n",
    "plt.xlabel('iterations (per hundreds)')\n",
    "plt.title(\"PLOT-4 \\n\\n Learning rate =\" + str(d[\"learning_rate\"]))\n",
    "plt.show()"
   ]
  },
  {
   "cell_type": "markdown",
   "metadata": {},
   "source": [
    "\n",
    "## 7 - Run the regression model function to train your model.\n",
    "\n",
    "### 7.2.1 - SETTING PARAMETERS (PART-2) FOR TRAIN AND TEST DATA\n",
    "\n",
    "#Set the `num_iterations` to 2000 and `learning_rate` to 0.005"
   ]
  },
  {
   "cell_type": "code",
   "execution_count": 38,
   "metadata": {},
   "outputs": [
    {
     "name": "stdout",
     "output_type": "stream",
     "text": [
      "Cost after iteration 0: 0.693147\n",
      "Cost after iteration 100: 0.348325\n",
      "Cost after iteration 200: 0.293235\n",
      "Cost after iteration 300: 0.263346\n",
      "Cost after iteration 400: 0.242531\n",
      "Cost after iteration 500: 0.226353\n",
      "Cost after iteration 600: 0.213014\n",
      "Cost after iteration 700: 0.201614\n",
      "Cost after iteration 800: 0.191640\n",
      "Cost after iteration 900: 0.182771\n",
      "Cost after iteration 1000: 0.174791\n",
      "Cost after iteration 1100: 0.167547\n",
      "Cost after iteration 1200: 0.160925\n",
      "Cost after iteration 1300: 0.154839\n",
      "Cost after iteration 1400: 0.149219\n",
      "Cost after iteration 1500: 0.144009\n",
      "Cost after iteration 1600: 0.139162\n",
      "Cost after iteration 1700: 0.134640\n",
      "Cost after iteration 1800: 0.130409\n",
      "Cost after iteration 1900: 0.126441\n",
      "train accuracy: 97.48549323017409 %\n",
      "test accuracy: 89.59537572254335 %\n"
     ]
    }
   ],
   "source": [
    "d = model(Train_set_x, Train_Set_Y, Test_set_x, Test_Set_Y, num_iterations = 2000, learning_rate = 0.005, print_cost = True)"
   ]
  },
  {
   "cell_type": "code",
   "execution_count": 39,
   "metadata": {},
   "outputs": [
    {
     "data": {
      "image/png": "[encoded data removed]",
      "text/plain": [
       "<Figure size 432x288 with 1 Axes>"
      ]
     },
     "metadata": {
      "needs_background": "light"
     },
     "output_type": "display_data"
    }
   ],
   "source": [
    "# Plot learning curve (with costs)\n",
    "costs = np.squeeze(d['costs'])\n",
    "plt.plot(costs)\n",
    "plt.ylabel('cost')\n",
    "plt.xlabel('iterations (per hundreds)')\n",
    "plt.title(\"PLOT-5 \\n\\n Learning rate =\" + str(d[\"learning_rate\"]))\n",
    "plt.show()\n"
   ]
  },
  {
   "cell_type": "markdown",
   "metadata": {},
   "source": [
    "\n",
    "# 7 - Run the regression model function to train your model.\n",
    "\n",
    "## 7.2.2 - SETTING PARAMETERS (PART-2) FOR TRAIN AND DEV DATA\n",
    "\n",
    "#Set the `num_iterations` to 2000 and `learning_rate` to 0.005"
   ]
  },
  {
   "cell_type": "code",
   "execution_count": 40,
   "metadata": {},
   "outputs": [
    {
     "name": "stdout",
     "output_type": "stream",
     "text": [
      "Cost after iteration 0: 0.693147\n",
      "Cost after iteration 100: 0.348325\n",
      "Cost after iteration 200: 0.293235\n",
      "Cost after iteration 300: 0.263346\n",
      "Cost after iteration 400: 0.242531\n",
      "Cost after iteration 500: 0.226353\n",
      "Cost after iteration 600: 0.213014\n",
      "Cost after iteration 700: 0.201614\n",
      "Cost after iteration 800: 0.191640\n",
      "Cost after iteration 900: 0.182771\n",
      "Cost after iteration 1000: 0.174791\n",
      "Cost after iteration 1100: 0.167547\n",
      "Cost after iteration 1200: 0.160925\n",
      "Cost after iteration 1300: 0.154839\n",
      "Cost after iteration 1400: 0.149219\n",
      "Cost after iteration 1500: 0.144009\n",
      "Cost after iteration 1600: 0.139162\n",
      "Cost after iteration 1700: 0.134640\n",
      "Cost after iteration 1800: 0.130409\n",
      "Cost after iteration 1900: 0.126441\n",
      "train accuracy: 97.48549323017409 %\n",
      "test accuracy: 91.86046511627907 %\n"
     ]
    }
   ],
   "source": [
    "d = model(Train_set_x, Train_Set_Y, Dev_set_x, Dev_Set_Y, num_iterations = 2000, learning_rate = 0.005, print_cost = True)"
   ]
  },
  {
   "cell_type": "code",
   "execution_count": 41,
   "metadata": {},
   "outputs": [
    {
     "data": {
      "image/png": "[encoded data removed]",
      "text/plain": [
       "<Figure size 432x288 with 1 Axes>"
      ]
     },
     "metadata": {
      "needs_background": "light"
     },
     "output_type": "display_data"
    }
   ],
   "source": [
    "# Plot learning curve (with costs)\n",
    "costs = np.squeeze(d['costs'])\n",
    "plt.plot(costs)\n",
    "plt.ylabel('cost')\n",
    "plt.xlabel('iterations (per hundreds)')\n",
    "plt.title(\"PLOT-6 \\n\\n Learning rate =\" + str(d[\"learning_rate\"]))\n",
    "plt.show()"
   ]
  },
  {
   "cell_type": "markdown",
   "metadata": {},
   "source": [
    "\n",
    "## 8 - ANALYSING THE COST AND ACCURACY RESPONSE FOR DIFFERENT VALUES OF LEARNING RATE\n"
   ]
  },
  {
   "cell_type": "code",
   "execution_count": 42,
   "metadata": {},
   "outputs": [
    {
     "name": "stdout",
     "output_type": "stream",
     "text": [
      "learning rate is: 0.02\n",
      "train accuracy: 99.22630560928434 %\n",
      "test accuracy: 89.01734104046243 %\n",
      "\n",
      "-------------------------------------------------------\n",
      "\n",
      "learning rate is: 0.002\n",
      "train accuracy: 94.97098646034816 %\n",
      "test accuracy: 87.86127167630057 %\n",
      "\n",
      "-------------------------------------------------------\n",
      "\n",
      "learning rate is: 0.0002\n",
      "train accuracy: 88.78143133462282 %\n",
      "test accuracy: 83.23699421965318 %\n",
      "\n",
      "-------------------------------------------------------\n",
      "\n"
     ]
    },
    {
     "data": {
      "image/png": "[encoded data removed]",
      "text/plain": [
       "<Figure size 432x288 with 1 Axes>"
      ]
     },
     "metadata": {
      "needs_background": "light"
     },
     "output_type": "display_data"
    }
   ],
   "source": [
    "learning_rates = [0.02, 0.002, 0.0002]\n",
    "models = {}\n",
    "for i in learning_rates:\n",
    "    print (\"learning rate is: \" + str(i))\n",
    "    models[str(i)] = model(Train_set_x, Train_Set_Y, Test_set_x, Test_Set_Y, num_iterations = 3000, learning_rate = i, print_cost = False)\n",
    "    print ('\\n' + \"-------------------------------------------------------\" + '\\n')\n",
    "\n",
    "for i in learning_rates:\n",
    "    plt.plot(np.squeeze(models[str(i)][\"costs\"]), label= str(models[str(i)][\"learning_rate\"]))\n",
    "\n",
    "plt.ylabel('cost')\n",
    "plt.xlabel('iterations')\n",
    "plt.title(\"PLOT-6 \\n\")\n",
    "legend = plt.legend(loc='upper center', shadow=True)\n",
    "frame = legend.get_frame()\n",
    "frame.set_facecolor('0.90')\n",
    "plt.show()"
   ]
  },
  {
   "cell_type": "markdown",
   "metadata": {},
   "source": [
    "## 8.1 - Analysis of accuracy results for Car Dataset\n",
    "Compare the cost function plots of part_1 and part_2. Write your observation below."
   ]
  },
  {
   "cell_type": "markdown",
   "metadata": {},
   "source": [
    "#### Write Your observation here\n",
    "......"
   ]
  },
  {
   "cell_type": "markdown",
   "metadata": {},
   "source": [
    "#### Observation:\n",
    "\n",
    "The following data are inferred from the obtained plots (PLOT-3, PLOT-4, PLOT-5, PLOT-6 and PLOT-7)\n",
    "\n",
    "1) In plot-3, the number of iteration was set as 5000 with learning factor as 0.0005.\n",
    "   This plot was made for the Train and Test dataset from car_dataset file\n",
    "    - In this plot it is observed that the cost was decreasing continuously from 0.693 to 0.227 with each iteration.\n",
    "    - The Training set accuracy is 92.069 and the Test set accuracy is 87.283\n",
    "\n",
    "2) In plot-4, the number of iteration was set as 5000 with learning factor as 0.0005.\n",
    "   This plot was made for the Train and Dev dataset from car_dataset file\n",
    "    - In this plot it is also observed that the cost was decreasing continuously from 0.693 to 0.227 with each iteration.\n",
    "    - The Training set accuracy is observed the same 92.069 and the Dev set accuracy as 92.441\n",
    "\n",
    "Inference: The Dev data set has higher accuracy followed by Training and Test set data \n",
    "\n",
    "3) In plot-5, the number of iteration was set as 2000 with learning factor as 0.005.\n",
    "   This plot was made for the Train and Test dataset from car_dataset file\n",
    "    - In this plot it is observed that the cost was decreasing continuously from 0.693 to 0.126 with each iteration.\n",
    "    - The Training set accuracy is 97.485 and the Test set accuracy is 89.595   \n",
    "\n",
    "\n",
    "4) In plot-6, the number of iteration was set as 2000 with learning factor as 0.005.\n",
    "   This plot was made for the Train and Dev dataset from car_dataset file\n",
    "    - In this plot it is observed that the cost was decreasing continuously from 0.693 to 0.126 for each iteration.\n",
    "    - The Training set accuracy is 97.485 and the Test set accuracy is 91.860\n",
    "    \n",
    "Inference : The Training set data has higher accuracy followed by Dev set data and Test set data\n",
    "\n",
    "Hence, with decrease in the iteration count and increase in the learning rates result in the increase in the accuracy of the training set data and test set data but there is a slight decrease in the dev set data accuracy.\n",
    "\n",
    "5) In plot-7, the cost oscillation adn dataset accuracy is analysed with variations in the learning factor value.\n",
    "\n",
    "    - In this plot it is observed that the cost was decreasing continuously from 0.69 for all the three different leaning rates.\n",
    "    - The Training set accuracy and the Test set accuracy was varying according to the differing  learning rates.\n",
    " \n",
    " Output:\n",
    "---    learning rate is: 0.02\n",
    "train accuracy: 99.22630560928434 %\n",
    "test accuracy: 89.01734104046243 %\n",
    "\n",
    "-------------------------------------------------------\n",
    "\n",
    "---    learning rate is: 0.002\n",
    "train accuracy: 94.97098646034816 %\n",
    "test accuracy: 87.86127167630057 %\n",
    "\n",
    "-------------------------------------------------------\n",
    "\n",
    "----   learning rate is: 0.0002\n",
    "train accuracy: 88.78143133462282 %\n",
    "test accuracy: 83.23699421965318 %\n",
    "    \n",
    "    - When the value of the learning rate decreases, the training and test data accuracy keeps decreasing. When learning rate is 0.02, the training data set accuracy seems to be good value for the cost. Since the test accuracy is not very less compared to trainng accuracy it may not be considered as overfitting.\n",
    "    - Thus the different learning rates give different costs and different predictions results.\n",
    "\n"
   ]
  },
  {
   "cell_type": "code",
   "execution_count": null,
   "metadata": {},
   "outputs": [],
   "source": []
  }
 ],
 "metadata": {
  "coursera": {
   "course_slug": "neural-networks-deep-learning",
   "graded_item_id": "XaIWT",
   "launcher_item_id": "zAgPl"
  },
  "kernelspec": {
   "display_name": "Python 3",
   "language": "python",
   "name": "python3"
  },
  "language_info": {
   "codemirror_mode": {
    "name": "ipython",
    "version": 3
   },
   "file_extension": ".py",
   "mimetype": "text/x-python",
   "name": "python",
   "nbconvert_exporter": "python",
   "pygments_lexer": "ipython3",
   "version": "3.7.1"
  },
  "widgets": {
   "state": {},
   "version": "1.1.2"
  }
 },
 "nbformat": 4,
 "nbformat_minor": 2
}
